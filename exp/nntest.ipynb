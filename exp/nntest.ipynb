{
 "cells": [
  {
   "cell_type": "code",
   "execution_count": 3,
   "metadata": {},
   "outputs": [],
   "source": [
    "import torch \n",
    "import torch.nn as nn \n",
    "import torchvision \n",
    "import torchvision.transforms as transforms\n",
    "import matplotlib.pyplot as plt "
   ]
  },
  {
   "cell_type": "code",
   "execution_count": 17,
   "metadata": {},
   "outputs": [],
   "source": [
    "#device config \n",
    "device = torch.device('cuda' if torch.cuda.is_available() else 'cpu')\n",
    "input_size = 784 \n",
    "hidden_size = 100 \n",
    "num_classes = 10\n",
    "epochs = 4\n",
    "batch_size = 100 \n",
    "learning_rate = 0.001"
   ]
  },
  {
   "cell_type": "code",
   "execution_count": 5,
   "metadata": {},
   "outputs": [
    {
     "name": "stdout",
     "output_type": "stream",
     "text": [
      "Downloading http://yann.lecun.com/exdb/mnist/train-images-idx3-ubyte.gz\n",
      "Failed to download (trying next):\n",
      "HTTP Error 403: Forbidden\n",
      "\n",
      "Downloading https://ossci-datasets.s3.amazonaws.com/mnist/train-images-idx3-ubyte.gz\n",
      "Downloading https://ossci-datasets.s3.amazonaws.com/mnist/train-images-idx3-ubyte.gz to ./data\\MNIST\\raw\\train-images-idx3-ubyte.gz\n"
     ]
    },
    {
     "name": "stderr",
     "output_type": "stream",
     "text": [
      "100%|██████████| 9912422/9912422 [00:17<00:00, 575718.09it/s] \n"
     ]
    },
    {
     "name": "stdout",
     "output_type": "stream",
     "text": [
      "Extracting ./data\\MNIST\\raw\\train-images-idx3-ubyte.gz to ./data\\MNIST\\raw\n",
      "\n",
      "Downloading http://yann.lecun.com/exdb/mnist/train-labels-idx1-ubyte.gz\n",
      "Failed to download (trying next):\n",
      "HTTP Error 403: Forbidden\n",
      "\n",
      "Downloading https://ossci-datasets.s3.amazonaws.com/mnist/train-labels-idx1-ubyte.gz\n",
      "Downloading https://ossci-datasets.s3.amazonaws.com/mnist/train-labels-idx1-ubyte.gz to ./data\\MNIST\\raw\\train-labels-idx1-ubyte.gz\n"
     ]
    },
    {
     "name": "stderr",
     "output_type": "stream",
     "text": [
      "100%|██████████| 28881/28881 [00:00<00:00, 108589.09it/s]\n"
     ]
    },
    {
     "name": "stdout",
     "output_type": "stream",
     "text": [
      "Extracting ./data\\MNIST\\raw\\train-labels-idx1-ubyte.gz to ./data\\MNIST\\raw\n",
      "\n",
      "Downloading http://yann.lecun.com/exdb/mnist/t10k-images-idx3-ubyte.gz\n",
      "Failed to download (trying next):\n",
      "HTTP Error 403: Forbidden\n",
      "\n",
      "Downloading https://ossci-datasets.s3.amazonaws.com/mnist/t10k-images-idx3-ubyte.gz\n",
      "Downloading https://ossci-datasets.s3.amazonaws.com/mnist/t10k-images-idx3-ubyte.gz to ./data\\MNIST\\raw\\t10k-images-idx3-ubyte.gz\n"
     ]
    },
    {
     "name": "stderr",
     "output_type": "stream",
     "text": [
      "100%|██████████| 1648877/1648877 [00:02<00:00, 699915.26it/s]\n"
     ]
    },
    {
     "name": "stdout",
     "output_type": "stream",
     "text": [
      "Extracting ./data\\MNIST\\raw\\t10k-images-idx3-ubyte.gz to ./data\\MNIST\\raw\n",
      "\n",
      "Downloading http://yann.lecun.com/exdb/mnist/t10k-labels-idx1-ubyte.gz\n",
      "Failed to download (trying next):\n",
      "HTTP Error 403: Forbidden\n",
      "\n",
      "Downloading https://ossci-datasets.s3.amazonaws.com/mnist/t10k-labels-idx1-ubyte.gz\n",
      "Downloading https://ossci-datasets.s3.amazonaws.com/mnist/t10k-labels-idx1-ubyte.gz to ./data\\MNIST\\raw\\t10k-labels-idx1-ubyte.gz\n"
     ]
    },
    {
     "name": "stderr",
     "output_type": "stream",
     "text": [
      "100%|██████████| 4542/4542 [00:00<00:00, 3925515.92it/s]"
     ]
    },
    {
     "name": "stdout",
     "output_type": "stream",
     "text": [
      "Extracting ./data\\MNIST\\raw\\t10k-labels-idx1-ubyte.gz to ./data\\MNIST\\raw\n",
      "\n"
     ]
    },
    {
     "name": "stderr",
     "output_type": "stream",
     "text": [
      "\n"
     ]
    }
   ],
   "source": [
    "import torch.utils\n",
    "import torch.utils.data\n",
    "\n",
    "\n",
    "train_dataset = torchvision.datasets.MNIST(root='./data', train = True , transform=transforms.ToTensor() , download= True)\n",
    "test_dataset = torchvision.datasets.MNIST(root='./data', train = False , transform=transforms.ToTensor())\n",
    "\n",
    "train_loader = torch.utils.data.DataLoader(dataset= train_dataset ,batch_size = batch_size, shuffle= True )\n",
    "test_loader = torch.utils.data.DataLoader(dataset= test_dataset , batch_size= batch_size, shuffle= False)\n"
   ]
  },
  {
   "cell_type": "code",
   "execution_count": 18,
   "metadata": {},
   "outputs": [
    {
     "name": "stdout",
     "output_type": "stream",
     "text": [
      "torch.Size([100, 1, 28, 28])\n",
      "torch.Size([100])\n"
     ]
    }
   ],
   "source": [
    "example = iter(train_loader)\n",
    "samples , labels = next(example)\n",
    "print(samples.shape)\n",
    "print(labels.shape)"
   ]
  },
  {
   "cell_type": "code",
   "execution_count": 19,
   "metadata": {},
   "outputs": [
    {
     "data": {
      "image/png": "[encoded data removed]",
      "text/plain": [
       "<Figure size 640x480 with 6 Axes>"
      ]
     },
     "metadata": {},
     "output_type": "display_data"
    }
   ],
   "source": [
    "for i in range(6):\n",
    "    plt.subplot(2 ,3 , i+1)\n",
    "    plt.imshow(samples[i][0] , cmap= 'gray')"
   ]
  },
  {
   "cell_type": "code",
   "execution_count": 20,
   "metadata": {},
   "outputs": [],
   "source": [
    "class NeuralNetwork(nn.Module):\n",
    "    def __init__(self, input_size, hidden_size, num_classes):\n",
    "        super(NeuralNetwork, self).__init__()\n",
    "        self.l1 = nn.Linear(input_size, hidden_size)\n",
    "        self.relu = nn.ReLU()\n",
    "        self.l2 = nn.Linear(hidden_size, num_classes)\n",
    "\n",
    "    def forward(self, x):\n",
    "        out = self.l1(x)\n",
    "        out = self.relu(out)\n",
    "        out = self.l2(out)\n",
    "        return out"
   ]
  },
  {
   "cell_type": "code",
   "execution_count": 21,
   "metadata": {},
   "outputs": [
    {
     "name": "stdout",
     "output_type": "stream",
     "text": [
      "Epoch [1/4], Step [100/600], Loss: 0.4764\n",
      "Epoch [1/4], Step [200/600], Loss: 0.2787\n",
      "Epoch [1/4], Step [300/600], Loss: 0.2904\n",
      "Epoch [1/4], Step [400/600], Loss: 0.3480\n",
      "Epoch [1/4], Step [500/600], Loss: 0.1402\n",
      "Epoch [1/4], Step [600/600], Loss: 0.3154\n",
      "Epoch [2/4], Step [100/600], Loss: 0.1636\n",
      "Epoch [2/4], Step [200/600], Loss: 0.1358\n",
      "Epoch [2/4], Step [300/600], Loss: 0.1088\n",
      "Epoch [2/4], Step [400/600], Loss: 0.1247\n",
      "Epoch [2/4], Step [500/600], Loss: 0.2126\n",
      "Epoch [2/4], Step [600/600], Loss: 0.2463\n",
      "Epoch [3/4], Step [100/600], Loss: 0.0903\n",
      "Epoch [3/4], Step [200/600], Loss: 0.1788\n",
      "Epoch [3/4], Step [300/600], Loss: 0.1335\n",
      "Epoch [3/4], Step [400/600], Loss: 0.1088\n",
      "Epoch [3/4], Step [500/600], Loss: 0.1129\n",
      "Epoch [3/4], Step [600/600], Loss: 0.1522\n",
      "Epoch [4/4], Step [100/600], Loss: 0.0445\n",
      "Epoch [4/4], Step [200/600], Loss: 0.1552\n",
      "Epoch [4/4], Step [300/600], Loss: 0.1212\n",
      "Epoch [4/4], Step [400/600], Loss: 0.1210\n",
      "Epoch [4/4], Step [500/600], Loss: 0.1233\n",
      "Epoch [4/4], Step [600/600], Loss: 0.0577\n"
     ]
    }
   ],
   "source": [
    "model = NeuralNetwork(input_size, hidden_size, num_classes).to(device)\n",
    "criterion = nn.CrossEntropyLoss()\n",
    "optimizer = torch.optim.Adam(model.parameters(), lr=learning_rate)\n",
    "\n",
    "# Training loop\n",
    "for epoch in range(epochs):\n",
    "    for i, (images, labels) in enumerate(train_loader):\n",
    "        images = images.reshape(-1, 28*28).to(device)\n",
    "        labels = labels.to(device)\n",
    "\n",
    "        # Forward pass\n",
    "        outputs = model(images)\n",
    "        loss = criterion(outputs, labels)\n",
    "\n",
    "        # Backward pass and optimization\n",
    "        optimizer.zero_grad()\n",
    "        loss.backward()\n",
    "        optimizer.step()\n",
    "\n",
    "        if (i+1) % 100 == 0:\n",
    "            print(f'Epoch [{epoch+1}/{epochs}], Step [{i+1}/600], Loss: {loss.item():.4f}')\n",
    "    "
   ]
  },
  {
   "cell_type": "code",
   "execution_count": 22,
   "metadata": {},
   "outputs": [
    {
     "name": "stdout",
     "output_type": "stream",
     "text": [
      "Epoch [1/4], Step [100/600], Loss: 0.3820\n",
      "Epoch [1/4], Step [200/600], Loss: 0.2918\n",
      "Epoch [1/4], Step [300/600], Loss: 0.2557\n",
      "Epoch [1/4], Step [400/600], Loss: 0.1874\n",
      "Epoch [1/4], Step [500/600], Loss: 0.1495\n",
      "Epoch [1/4], Step [600/600], Loss: 0.2956\n",
      "Epoch [2/4], Step [100/600], Loss: 0.3425\n",
      "Epoch [2/4], Step [200/600], Loss: 0.1645\n",
      "Epoch [2/4], Step [300/600], Loss: 0.2636\n",
      "Epoch [2/4], Step [400/600], Loss: 0.2361\n",
      "Epoch [2/4], Step [500/600], Loss: 0.0929\n",
      "Epoch [2/4], Step [600/600], Loss: 0.1994\n",
      "Epoch [3/4], Step [100/600], Loss: 0.1027\n",
      "Epoch [3/4], Step [200/600], Loss: 0.1307\n",
      "Epoch [3/4], Step [300/600], Loss: 0.0976\n",
      "Epoch [3/4], Step [400/600], Loss: 0.1565\n",
      "Epoch [3/4], Step [500/600], Loss: 0.2100\n",
      "Epoch [3/4], Step [600/600], Loss: 0.1736\n",
      "Epoch [4/4], Step [100/600], Loss: 0.1661\n",
      "Epoch [4/4], Step [200/600], Loss: 0.1185\n",
      "Epoch [4/4], Step [300/600], Loss: 0.1231\n",
      "Epoch [4/4], Step [400/600], Loss: 0.1306\n",
      "Epoch [4/4], Step [500/600], Loss: 0.1587\n",
      "Epoch [4/4], Step [600/600], Loss: 0.1221\n"
     ]
    }
   ],
   "source": [
    "\n",
    "num_classes = 10\n",
    "\n",
    "# Initialize the model, loss function, and optimizer\n",
    "model = NeuralNetwork(input_size, hidden_size, num_classes).to(device)\n",
    "criterion = nn.CrossEntropyLoss()\n",
    "optimizer = torch.optim.Adam(model.parameters(), lr=learning_rate)\n",
    "\n",
    "# Training loop\n",
    "for epoch in range(epochs):\n",
    "    for i, (images, labels) in enumerate(train_loader):\n",
    "        images = images.reshape(-1, 28*28).to(device)\n",
    "        labels = labels.to(device)\n",
    "\n",
    "        # If necessary, adjust the labels to be in the range [0, num_classes-1]\n",
    "        if labels.min() < 0 or labels.max() >= num_classes:\n",
    "            raise ValueError(f\"Label value out of range: {labels.min()} to {labels.max()}\")\n",
    "\n",
    "        # Forward pass\n",
    "        outputs = model(images)\n",
    "        loss = criterion(outputs, labels)\n",
    "\n",
    "        # Backward pass and optimization\n",
    "        optimizer.zero_grad()\n",
    "        loss.backward()\n",
    "        optimizer.step()\n",
    "\n",
    "        if (i+1) % 100 == 0:\n",
    "            print(f'Epoch [{epoch+1}/{epochs}], Step [{i+1}/600], Loss: {loss.item():.4f}')\n"
   ]
  },
  {
   "cell_type": "code",
   "execution_count": 23,
   "metadata": {},
   "outputs": [
    {
     "name": "stdout",
     "output_type": "stream",
     "text": [
      "0.96\n"
     ]
    }
   ],
   "source": [
    "with torch.no_grad():\n",
    "    n_correct = 0 \n",
    "    n_sample = 0\n",
    "    for images , labels in test_loader:\n",
    "        images = images.reshape(-1 , 28*28).to(device)\n",
    "        labels = labels.to(device)\n",
    "        outputs = model(images)\n",
    "\n",
    "        _, pred = torch.max(outputs , 1)\n",
    "        n_sample += labels.shape[0]\n",
    "        n_correct = (pred == labels).sum().item()\n",
    "\n",
    "    acc = 100.0 *n_correct/n_sample \n",
    "    print(acc)"
   ]
  },
  {
   "cell_type": "code",
   "execution_count": null,
   "metadata": {},
   "outputs": [],
   "source": []
  }
 ],
 "metadata": {
  "kernelspec": {
   "display_name": "base",
   "language": "python",
   "name": "python3"
  },
  "language_info": {
   "codemirror_mode": {
    "name": "ipython",
    "version": 3
   },
   "file_extension": ".py",
   "mimetype": "text/x-python",
   "name": "python",
   "nbconvert_exporter": "python",
   "pygments_lexer": "ipython3",
   "version": "3.11.5"
  }
 },
 "nbformat": 4,
 "nbformat_minor": 2
}
